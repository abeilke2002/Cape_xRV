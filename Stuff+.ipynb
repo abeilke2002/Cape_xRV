{
 "cells": [
  {
   "cell_type": "code",
   "execution_count": 41,
   "id": "e47f4834",
   "metadata": {},
   "outputs": [],
   "source": [
    "import os\n",
    "import pandas as pd\n",
    "import numpy as np\n",
    "import scipy.stats as stats\n",
    "import matplotlib.pyplot as plt\n",
    "import seaborn as sns\n",
    "\n",
    "from sklearn.model_selection import train_test_split, GridSearchCV, KFold\n",
    "from sklearn.metrics import f1_score, mean_squared_error\n",
    "from sklearn.feature_selection import SequentialFeatureSelector\n",
    "from sklearn.preprocessing import MinMaxScaler, LabelEncoder\n",
    "from sklearn.linear_model import LinearRegression\n",
    "\n",
    "import xgboost as xgb\n",
    "from xgboost import XGBRegressor\n",
    "from hyperopt import hp\n",
    "from hyperopt import fmin, tpe, Trials, STATUS_OK"
   ]
  },
  {
   "cell_type": "code",
   "execution_count": 42,
   "id": "71d86e6e",
   "metadata": {},
   "outputs": [
    {
     "name": "stdout",
     "output_type": "stream",
     "text": [
      "['.Rhistory', 'combined_data2.csv', '.DS_Store', 'ml_ready.csv', 'hyannis.csv', 'check_leaders.csv', 'TM_2024_reg_szn (1).csv', '.RData', 'combined_data.csv']\n"
     ]
    }
   ],
   "source": [
    "project_dir = '/Users/aidanbeilke/Desktop'\n",
    "\n",
    "hyannis_folder = os.listdir(f\"{project_dir}/Postgame_pdfs/csvs\")\n",
    "print(hyannis_folder)\n"
   ]
  },
  {
   "cell_type": "code",
   "execution_count": 43,
   "id": "435783ed",
   "metadata": {},
   "outputs": [],
   "source": [
    "df = None\n",
    "\n",
    "for file in hyannis_folder:\n",
    "    if file == 'ml_ready.csv':\n",
    "        df = pd.read_csv(f\"{project_dir}/Postgame_pdfs/csvs/ml_ready.csv\", low_memory = False)\n",
    "        \n",
    "        "
   ]
  },
  {
   "cell_type": "markdown",
   "id": "755b8ed4",
   "metadata": {},
   "source": [
    "## EDA"
   ]
  },
  {
   "cell_type": "code",
   "execution_count": 44,
   "id": "70458e9c",
   "metadata": {},
   "outputs": [
    {
     "data": {
      "text/plain": [
       "(1462896, 169)"
      ]
     },
     "execution_count": 44,
     "metadata": {},
     "output_type": "execute_result"
    }
   ],
   "source": [
    "df.shape"
   ]
  },
  {
   "cell_type": "code",
   "execution_count": 45,
   "id": "2a6407cd",
   "metadata": {},
   "outputs": [
    {
     "data": {
      "text/plain": [
       "array(['StrikeCalled', 'StrikeSwinging', 'BallCalled', 'InPlay',\n",
       "       'FoulBall', 'BallinDirt', 'HitByPitch', 'BallIntentional',\n",
       "       'FoulBallFieldable', 'FoulBallNotFieldable',\n",
       "       'FouldBallNotFieldable', 'Undefined', 'StrkeSwinging',\n",
       "       'BattersInterference', 'StriekC'], dtype=object)"
      ]
     },
     "execution_count": 45,
     "metadata": {},
     "output_type": "execute_result"
    }
   ],
   "source": [
    "df['PitchCall'].unique()"
   ]
  },
  {
   "cell_type": "code",
   "execution_count": 46,
   "id": "4045d18f",
   "metadata": {},
   "outputs": [
    {
     "data": {
      "text/plain": [
       "array(['Undefined', 'Out', 'Single', 'FieldersChoice', 'Triple', 'Double',\n",
       "       'Sacrifice', 'HomeRun', 'Error', 'StolenBase', 'CaughtStealing',\n",
       "       'error', 'SIngle', 'homerun'], dtype=object)"
      ]
     },
     "execution_count": 46,
     "metadata": {},
     "output_type": "execute_result"
    }
   ],
   "source": [
    "df['PlayResult'].unique()"
   ]
  },
  {
   "cell_type": "code",
   "execution_count": 47,
   "id": "03ad6f31",
   "metadata": {},
   "outputs": [
    {
     "data": {
      "text/plain": [
       "['PitchNo',\n",
       " 'Date',\n",
       " 'Time',\n",
       " 'PAofInning',\n",
       " 'PitchofPA',\n",
       " 'Pitcher',\n",
       " 'PitcherId',\n",
       " 'PitcherThrows',\n",
       " 'PitcherTeam',\n",
       " 'Batter',\n",
       " 'BatterId',\n",
       " 'BatterSide',\n",
       " 'BatterTeam',\n",
       " 'PitcherSet',\n",
       " 'Inning',\n",
       " 'Top.Bottom',\n",
       " 'Outs',\n",
       " 'Balls',\n",
       " 'Strikes',\n",
       " 'TaggedPitchType',\n",
       " 'AutoPitchType',\n",
       " 'PitchCall',\n",
       " 'KorBB',\n",
       " 'TaggedHitType',\n",
       " 'PlayResult',\n",
       " 'OutsOnPlay',\n",
       " 'RunsScored',\n",
       " 'Notes',\n",
       " 'RelSpeed',\n",
       " 'VertRelAngle',\n",
       " 'HorzRelAngle',\n",
       " 'SpinRate',\n",
       " 'SpinAxis',\n",
       " 'Tilt',\n",
       " 'RelHeight',\n",
       " 'RelSide',\n",
       " 'Extension',\n",
       " 'VertBreak',\n",
       " 'InducedVertBreak',\n",
       " 'HorzBreak',\n",
       " 'PlateLocHeight',\n",
       " 'PlateLocSide',\n",
       " 'ZoneSpeed',\n",
       " 'VertApprAngle',\n",
       " 'HorzApprAngle',\n",
       " 'ZoneTime',\n",
       " 'ExitSpeed',\n",
       " 'Angle',\n",
       " 'Direction',\n",
       " 'HitSpinRate',\n",
       " 'PositionAt110X',\n",
       " 'PositionAt110Y',\n",
       " 'PositionAt110Z',\n",
       " 'Distance',\n",
       " 'LastTrackedDistance',\n",
       " 'Bearing',\n",
       " 'HangTime',\n",
       " 'pfxx',\n",
       " 'pfxz',\n",
       " 'x0',\n",
       " 'y0',\n",
       " 'z0',\n",
       " 'vx0',\n",
       " 'vy0',\n",
       " 'vz0',\n",
       " 'ax0',\n",
       " 'ay0',\n",
       " 'az0',\n",
       " 'HomeTeam',\n",
       " 'AwayTeam',\n",
       " 'Stadium',\n",
       " 'Level',\n",
       " 'League',\n",
       " 'GameID',\n",
       " 'PitchUID',\n",
       " 'EffectiveVelo',\n",
       " 'MaxHeight',\n",
       " 'MeasuredDuration',\n",
       " 'SpeedDrop',\n",
       " 'PitchLastMeasuredX',\n",
       " 'PitchLastMeasuredY',\n",
       " 'PitchLastMeasuredZ',\n",
       " 'ContactPositionX',\n",
       " 'ContactPositionY',\n",
       " 'ContactPositionZ',\n",
       " 'GameUID',\n",
       " 'UTCDate',\n",
       " 'UTCTime',\n",
       " 'LocalDateTime',\n",
       " 'UTCDateTime',\n",
       " 'AutoHitType',\n",
       " 'System',\n",
       " 'HomeTeamForeignID',\n",
       " 'AwayTeamForeignID',\n",
       " 'GameForeignID',\n",
       " 'Catcher',\n",
       " 'CatcherId',\n",
       " 'CatcherThrows',\n",
       " 'CatcherTeam',\n",
       " 'PlayID',\n",
       " 'PitchTrajectoryXc0',\n",
       " 'PitchTrajectoryXc1',\n",
       " 'PitchTrajectoryXc2',\n",
       " 'PitchTrajectoryYc0',\n",
       " 'PitchTrajectoryYc1',\n",
       " 'PitchTrajectoryYc2',\n",
       " 'PitchTrajectoryZc0',\n",
       " 'PitchTrajectoryZc1',\n",
       " 'PitchTrajectoryZc2',\n",
       " 'HitSpinAxis',\n",
       " 'HitTrajectoryXc0',\n",
       " 'HitTrajectoryXc1',\n",
       " 'HitTrajectoryXc2',\n",
       " 'HitTrajectoryXc3',\n",
       " 'HitTrajectoryXc4',\n",
       " 'HitTrajectoryXc5',\n",
       " 'HitTrajectoryXc6',\n",
       " 'HitTrajectoryXc7',\n",
       " 'HitTrajectoryXc8',\n",
       " 'HitTrajectoryYc0',\n",
       " 'HitTrajectoryYc1',\n",
       " 'HitTrajectoryYc2',\n",
       " 'HitTrajectoryYc3',\n",
       " 'HitTrajectoryYc4',\n",
       " 'HitTrajectoryYc5',\n",
       " 'HitTrajectoryYc6',\n",
       " 'HitTrajectoryYc7',\n",
       " 'HitTrajectoryYc8',\n",
       " 'HitTrajectoryZc0',\n",
       " 'HitTrajectoryZc1',\n",
       " 'HitTrajectoryZc2',\n",
       " 'HitTrajectoryZc3',\n",
       " 'HitTrajectoryZc4',\n",
       " 'HitTrajectoryZc5',\n",
       " 'HitTrajectoryZc6',\n",
       " 'HitTrajectoryZc7',\n",
       " 'HitTrajectoryZc8',\n",
       " 'ThrowSpeed',\n",
       " 'PopTime',\n",
       " 'ExchangeTime',\n",
       " 'TimeToBase',\n",
       " 'CatchPositionX',\n",
       " 'CatchPositionY',\n",
       " 'CatchPositionZ',\n",
       " 'ThrowPositionX',\n",
       " 'ThrowPositionY',\n",
       " 'ThrowPositionZ',\n",
       " 'BasePositionX',\n",
       " 'BasePositionY',\n",
       " 'BasePositionZ',\n",
       " 'ThrowTrajectoryXc0',\n",
       " 'ThrowTrajectoryXc1',\n",
       " 'ThrowTrajectoryXc2',\n",
       " 'ThrowTrajectoryYc0',\n",
       " 'ThrowTrajectoryYc1',\n",
       " 'ThrowTrajectoryYc2',\n",
       " 'ThrowTrajectoryZc0',\n",
       " 'ThrowTrajectoryZc1',\n",
       " 'ThrowTrajectoryZc2',\n",
       " 'PitchReleaseConfidence',\n",
       " 'PitchLocationConfidence',\n",
       " 'PitchMovementConfidence',\n",
       " 'HitLaunchConfidence',\n",
       " 'HitLandingConfidence',\n",
       " 'CatcherThrowCatchConfidence',\n",
       " 'CatcherThrowReleaseConfidence',\n",
       " 'CatcherThrowLocationConfidence',\n",
       " 'pitch_type_code',\n",
       " 'pitch_type']"
      ]
     },
     "execution_count": 47,
     "metadata": {},
     "output_type": "execute_result"
    }
   ],
   "source": [
    "[c for c in df.columns]"
   ]
  },
  {
   "cell_type": "code",
   "execution_count": 48,
   "id": "ad7deceb",
   "metadata": {},
   "outputs": [],
   "source": [
    "cols = ['Date', 'Pitcher', 'PitcherId', 'PitcherTeam', 'Batter', 'BatterId', 'Outs', 'Balls',\n",
    "        'Strikes', 'TaggedPitchType', 'AutoPitchType', 'PitchCall','PlayResult' ,'RelSpeed',\n",
    "        'VertRelAngle', 'HorzRelAngle', 'SpinRate', 'SpinAxis', 'Tilt', 'RelHeight',\n",
    "        'RelSide', 'Extension', 'InducedVertBreak', 'HorzBreak', 'PlateLocHeight', 'PlateLocSide',\n",
    "        'VertApprAngle', 'HorzApprAngle', 'BatterSide', 'PitcherThrows', 'pitch_type', 'ax0', 'ay0', 'az0', \n",
    "       'TaggedHitType']\n",
    "\n",
    "data = df[cols]"
   ]
  },
  {
   "cell_type": "code",
   "execution_count": 49,
   "id": "b74e9ca3",
   "metadata": {},
   "outputs": [
    {
     "name": "stderr",
     "output_type": "stream",
     "text": [
      "/var/folders/z9/0qsxxzxs1hb9r22xy18sfdbc0000gn/T/ipykernel_66954/3523544463.py:15: SettingWithCopyWarning: \n",
      "A value is trying to be set on a copy of a slice from a DataFrame.\n",
      "Try using .loc[row_indexer,col_indexer] = value instead\n",
      "\n",
      "See the caveats in the documentation: https://pandas.pydata.org/pandas-docs/stable/user_guide/indexing.html#returning-a-view-versus-a-copy\n",
      "  data['pitch_type'] = data['pitch_type'].apply(classify_pitch_type)\n"
     ]
    }
   ],
   "source": [
    "## Pitch Type Classification\n",
    "\n",
    "def classify_pitch_type(pitch_type):\n",
    "    if isinstance(pitch_type, str):\n",
    "        pitch_type = pitch_type.title()\n",
    "    if pitch_type in ['Four-Seam', 'Fourseamfastball']:\n",
    "        return 'Four-Seam'\n",
    "    elif pitch_type in ['Twoseamfastball']:\n",
    "        return 'Sinker'\n",
    "    elif pitch_type in ['Changeup']:\n",
    "        return 'ChangeUp'  \n",
    "    else:\n",
    "        return pitch_type\n",
    "\n",
    "data['pitch_type'] = data['pitch_type'].apply(classify_pitch_type)\n",
    "\n",
    "\n",
    "rm_pitch = ['Undefined', 'Other', 'Knuckleball', 'Oneseamfastball']\n",
    "data = data[~data['pitch_type'].isin(rm_pitch)].copy()"
   ]
  },
  {
   "cell_type": "markdown",
   "id": "16a0d4f0",
   "metadata": {},
   "source": [
    "## Get Pitcher's Primary Pitch"
   ]
  },
  {
   "cell_type": "code",
   "execution_count": 50,
   "id": "d5833c1f",
   "metadata": {},
   "outputs": [],
   "source": [
    "df_filtered = data[data['pitch_type'].isin(['Four-Seam', 'Sinker', 'Cutter'])].copy()\n",
    "\n",
    "def primary_fastball(group):\n",
    "\n",
    "    counts = group.value_counts()\n",
    "    \n",
    "    primary_pitch = counts.idxmax()\n",
    "    \n",
    "    return primary_pitch\n",
    "\n",
    "# Applying the function to determine the primary pitch for each pitcher\n",
    "df_filtered['PrimaryFastball'] = df_filtered.groupby('Pitcher')['pitch_type'].transform(primary_fastball)"
   ]
  },
  {
   "cell_type": "code",
   "execution_count": 51,
   "id": "134f6ec9",
   "metadata": {},
   "outputs": [],
   "source": [
    "primary_stats = df_filtered[df_filtered['pitch_type'] == df_filtered['PrimaryFastball']].groupby('Pitcher').agg({\n",
    "    'RelSpeed': 'mean',\n",
    "    'InducedVertBreak': 'mean',\n",
    "    'HorzBreak': 'mean',\n",
    "}).rename(columns=lambda x: 'Avg_' + x)\n"
   ]
  },
  {
   "cell_type": "code",
   "execution_count": 52,
   "id": "5b625e2a",
   "metadata": {},
   "outputs": [],
   "source": [
    "data = data.merge(primary_stats, on='Pitcher', how='left')"
   ]
  },
  {
   "cell_type": "code",
   "execution_count": 53,
   "id": "5228b595",
   "metadata": {},
   "outputs": [],
   "source": [
    "data['Diff_Velocity'] = data['RelSpeed'] - data['Avg_RelSpeed']\n",
    "data['Diff_VerticalBreak'] = data['InducedVertBreak'] - data['Avg_InducedVertBreak']\n",
    "data['Diff_HorizontalBreak'] = data['HorzBreak'] - data['Avg_HorzBreak']\n"
   ]
  },
  {
   "cell_type": "code",
   "execution_count": 54,
   "id": "7270b87e",
   "metadata": {},
   "outputs": [
    {
     "data": {
      "text/plain": [
       "0          1.0\n",
       "1          1.0\n",
       "2          1.0\n",
       "3          1.0\n",
       "4          1.0\n",
       "          ... \n",
       "1462891    1.0\n",
       "1462892    1.0\n",
       "1462893    1.0\n",
       "1462894    1.0\n",
       "1462895    1.0\n",
       "Name: PitcherThrows, Length: 1462896, dtype: float64"
      ]
     },
     "execution_count": 54,
     "metadata": {},
     "output_type": "execute_result"
    }
   ],
   "source": [
    "data['PitcherThrows']"
   ]
  },
  {
   "cell_type": "markdown",
   "id": "c12396d0",
   "metadata": {},
   "source": [
    "## Get Predictor Vars"
   ]
  },
  {
   "cell_type": "code",
   "execution_count": 16,
   "id": "91fcea80",
   "metadata": {},
   "outputs": [],
   "source": [
    "# data['is_lefty'] = data['PitcherThrows'].map({'Left': 1, 'Right': 0})"
   ]
  },
  {
   "cell_type": "code",
   "execution_count": 55,
   "id": "96e37b25",
   "metadata": {},
   "outputs": [],
   "source": [
    "features = ['RelSpeed','RelHeight', 'RelSide', 'Extension', 'HorzBreak', 'InducedVertBreak',\n",
    "            'Diff_Velocity', 'Diff_VerticalBreak', 'Diff_HorizontalBreak', 'ay0', 'PitcherThrows']\n"
   ]
  },
  {
   "cell_type": "code",
   "execution_count": 56,
   "id": "43ce8e59",
   "metadata": {},
   "outputs": [
    {
     "data": {
      "text/plain": [
       "array(['Fastball', 'Slider', 'ChangeUp', 'Sinker', 'Curveball',\n",
       "       'Splitter', 'Cutter'], dtype=object)"
      ]
     },
     "execution_count": 56,
     "metadata": {},
     "output_type": "execute_result"
    }
   ],
   "source": [
    "data['pitch_type'].unique()"
   ]
  },
  {
   "cell_type": "markdown",
   "id": "434d8237",
   "metadata": {},
   "source": [
    "## Get Target Var"
   ]
  },
  {
   "cell_type": "code",
   "execution_count": 57,
   "id": "3e784498",
   "metadata": {},
   "outputs": [],
   "source": [
    "data['PlayResult'] = data.apply(\n",
    "    lambda row: 'SacBunt' if row['PlayResult'] == 'Sacrifice' and row['TaggedHitType'] == 'Bunt' \n",
    "    else ('SacFly' if row['PlayResult'] == 'Sacrifice' else row['PlayResult']),\n",
    "    axis=1\n",
    ")"
   ]
  },
  {
   "cell_type": "code",
   "execution_count": 58,
   "id": "82465513",
   "metadata": {},
   "outputs": [],
   "source": [
    "data['result'] = np.where(data['PitchCall'] == 'InPlay', data['PlayResult'], data['PitchCall'])\n",
    "\n",
    "remove = [\n",
    "    'Undefined',\n",
    "    'StrkeSwinging',\n",
    "    'error',\n",
    "    'SIngle',\n",
    "    'homerun',\n",
    "    'BattersInterference',\n",
    "    'StriekC'\n",
    "]\n",
    "\n",
    "data = data[~data['result'].isin(remove)]"
   ]
  },
  {
   "cell_type": "code",
   "execution_count": 59,
   "id": "7bfb326d",
   "metadata": {},
   "outputs": [],
   "source": [
    "replacements = {\n",
    "    'FoulBallNotFieldable': 'FoulBall',\n",
    "    'FoulBallFieldable': 'FoulBall',\n",
    "    'FouldBallNotFieldable' : 'FoulBall'\n",
    "}\n",
    "\n",
    "data['result'] = data['result'].replace(replacements)"
   ]
  },
  {
   "cell_type": "code",
   "execution_count": 60,
   "id": "88b15833",
   "metadata": {},
   "outputs": [
    {
     "name": "stdout",
     "output_type": "stream",
     "text": [
      "['Undefined' 'Out' 'Single' 'FieldersChoice' 'Triple' 'Double' 'SacBunt'\n",
      " 'HomeRun' 'Error' 'SacFly' 'StolenBase' 'CaughtStealing']\n"
     ]
    }
   ],
   "source": [
    "print(data['PlayResult'].unique())"
   ]
  },
  {
   "cell_type": "code",
   "execution_count": 61,
   "id": "b730a749",
   "metadata": {},
   "outputs": [],
   "source": [
    "rv_dict = {\n",
    "    'StrikeCalled' : -0.065092516,\n",
    "    'StrikeSwinging' : -0.118124936,\n",
    "    'BallCalled' : 0.063688329,\n",
    "    'Out' : -0.195568767,\n",
    "    'FoulBall' : -0.038050274,\n",
    "    'Single' : 0.467292971,\n",
    "    'FieldersChoice' : -0.195568767,\n",
    "    'Triple' : 1.05755625,\n",
    "    'Double' : 0.766083123,\n",
    "    'SacBunt' : -0.10808108,\n",
    "    'SacFly' : -0.236889646,\n",
    "    'HomeRun' : 1.374328827,\n",
    "    'Error' : -0.236889646,\n",
    "    'HitByPitch' : 0.063688329,\n",
    "}\n",
    "\n",
    "result_match = [\n",
    "    'StrikeCalled',\n",
    "    'StrikeSwinging',\n",
    "    'BallCalled',\n",
    "    'Out',\n",
    "    'FoulBall',\n",
    "    'Single',\n",
    "    'FieldersChoice',\n",
    "    'Triple',\n",
    "    'Double',\n",
    "    'SacBunt',\n",
    "    'SacFly',\n",
    "    'HomeRun',\n",
    "    'Error',\n",
    "    'HitByPitch'\n",
    "]\n",
    "\n",
    "data['run_value'] = data['result'].map(rv_dict)\n",
    "data = data[data['result'].isin(result_match)]"
   ]
  },
  {
   "cell_type": "code",
   "execution_count": 77,
   "id": "cc6ada7f",
   "metadata": {},
   "outputs": [
    {
     "data": {
      "text/html": [
       "<div>\n",
       "<style scoped>\n",
       "    .dataframe tbody tr th:only-of-type {\n",
       "        vertical-align: middle;\n",
       "    }\n",
       "\n",
       "    .dataframe tbody tr th {\n",
       "        vertical-align: top;\n",
       "    }\n",
       "\n",
       "    .dataframe thead th {\n",
       "        text-align: right;\n",
       "    }\n",
       "</style>\n",
       "<table border=\"1\" class=\"dataframe\">\n",
       "  <thead>\n",
       "    <tr style=\"text-align: right;\">\n",
       "      <th></th>\n",
       "      <th>result</th>\n",
       "      <th>result_type_code</th>\n",
       "    </tr>\n",
       "  </thead>\n",
       "  <tbody>\n",
       "    <tr>\n",
       "      <th>3</th>\n",
       "      <td>BallCalled</td>\n",
       "      <td>0</td>\n",
       "    </tr>\n",
       "    <tr>\n",
       "      <th>61</th>\n",
       "      <td>Double</td>\n",
       "      <td>1</td>\n",
       "    </tr>\n",
       "    <tr>\n",
       "      <th>232</th>\n",
       "      <td>Error</td>\n",
       "      <td>2</td>\n",
       "    </tr>\n",
       "    <tr>\n",
       "      <th>53</th>\n",
       "      <td>FieldersChoice</td>\n",
       "      <td>3</td>\n",
       "    </tr>\n",
       "    <tr>\n",
       "      <th>22</th>\n",
       "      <td>FoulBall</td>\n",
       "      <td>4</td>\n",
       "    </tr>\n",
       "    <tr>\n",
       "      <th>848</th>\n",
       "      <td>HitByPitch</td>\n",
       "      <td>5</td>\n",
       "    </tr>\n",
       "    <tr>\n",
       "      <th>227</th>\n",
       "      <td>HomeRun</td>\n",
       "      <td>6</td>\n",
       "    </tr>\n",
       "    <tr>\n",
       "      <th>10</th>\n",
       "      <td>Out</td>\n",
       "      <td>7</td>\n",
       "    </tr>\n",
       "    <tr>\n",
       "      <th>99</th>\n",
       "      <td>SacBunt</td>\n",
       "      <td>8</td>\n",
       "    </tr>\n",
       "    <tr>\n",
       "      <th>1014</th>\n",
       "      <td>SacFly</td>\n",
       "      <td>9</td>\n",
       "    </tr>\n",
       "    <tr>\n",
       "      <th>49</th>\n",
       "      <td>Single</td>\n",
       "      <td>10</td>\n",
       "    </tr>\n",
       "    <tr>\n",
       "      <th>0</th>\n",
       "      <td>StrikeCalled</td>\n",
       "      <td>11</td>\n",
       "    </tr>\n",
       "    <tr>\n",
       "      <th>2</th>\n",
       "      <td>StrikeSwinging</td>\n",
       "      <td>12</td>\n",
       "    </tr>\n",
       "    <tr>\n",
       "      <th>57</th>\n",
       "      <td>Triple</td>\n",
       "      <td>13</td>\n",
       "    </tr>\n",
       "  </tbody>\n",
       "</table>\n",
       "</div>"
      ],
      "text/plain": [
       "              result  result_type_code\n",
       "3         BallCalled                 0\n",
       "61            Double                 1\n",
       "232            Error                 2\n",
       "53    FieldersChoice                 3\n",
       "22          FoulBall                 4\n",
       "848       HitByPitch                 5\n",
       "227          HomeRun                 6\n",
       "10               Out                 7\n",
       "99           SacBunt                 8\n",
       "1014          SacFly                 9\n",
       "49            Single                10\n",
       "0       StrikeCalled                11\n",
       "2     StrikeSwinging                12\n",
       "57            Triple                13"
      ]
     },
     "execution_count": 77,
     "metadata": {},
     "output_type": "execute_result"
    }
   ],
   "source": [
    "data['result_type_code'] = data['result'].astype('category').cat.codes\n",
    "\n",
    "data.loc[:, ['result', 'result_type_code']].drop_duplicates().sort_values(by = 'result_type_code')\n",
    "\n",
    "\n"
   ]
  },
  {
   "cell_type": "code",
   "execution_count": 63,
   "id": "77af0891",
   "metadata": {},
   "outputs": [],
   "source": [
    "fastball = ['Fastball', 'Sinker']\n",
    "breaking = ['Curveball', 'Slider', 'Cutter']\n",
    "offspeed = ['Splitter', 'ChangeUp']"
   ]
  },
  {
   "cell_type": "code",
   "execution_count": 64,
   "id": "d172a13e",
   "metadata": {},
   "outputs": [],
   "source": [
    "data = data.dropna()"
   ]
  },
  {
   "cell_type": "markdown",
   "id": "e6c45d23",
   "metadata": {},
   "source": [
    "## Fastball Model"
   ]
  },
  {
   "cell_type": "code",
   "execution_count": 78,
   "id": "6bb58bae",
   "metadata": {},
   "outputs": [],
   "source": [
    "df_fb = data[data['pitch_type'].isin(fastball)]\n",
    "X_fb = df_fb[features]\n",
    "y_fb = df_fb['result_type_code']\n",
    "\n",
    "X_train_fb, X_test_fb, y_train_fb, y_test_fb = train_test_split(X_fb, y_fb, test_size=0.2, random_state=123)\n",
    "\n",
    "xgb_model = xgb.XGBRegressor()\n",
    "\n",
    "fb_model = xgb.XGBClassifier()\n",
    "fb_model.fit(X_train_fb, y_train_fb)\n",
    "\n",
    "y_pred_prob_fb = fb_model.predict_proba(X_test_fb)"
   ]
  },
  {
   "cell_type": "markdown",
   "id": "c1e978dd",
   "metadata": {},
   "source": [
    "## Hyperparameter Tune Fastball"
   ]
  },
  {
   "cell_type": "code",
   "execution_count": 79,
   "id": "a5a908a5",
   "metadata": {
    "scrolled": false
   },
   "outputs": [
    {
     "name": "stdout",
     "output_type": "stream",
     "text": [
      "Fitting 3 folds for each of 27 candidates, totalling 81 fits\n"
     ]
    },
    {
     "name": "stderr",
     "output_type": "stream",
     "text": [
      "/Users/aidanbeilke/opt/anaconda3/lib/python3.9/site-packages/pandas/core/computation/expressions.py:21: UserWarning: Pandas requires version '2.8.4' or newer of 'numexpr' (version '2.8.3' currently installed).\n",
      "  from pandas.core.computation.check import NUMEXPR_INSTALLED\n",
      "/Users/aidanbeilke/opt/anaconda3/lib/python3.9/site-packages/pandas/core/computation/expressions.py:21: UserWarning: Pandas requires version '2.8.4' or newer of 'numexpr' (version '2.8.3' currently installed).\n",
      "  from pandas.core.computation.check import NUMEXPR_INSTALLED\n",
      "/Users/aidanbeilke/opt/anaconda3/lib/python3.9/site-packages/pandas/core/computation/expressions.py:21: UserWarning: Pandas requires version '2.8.4' or newer of 'numexpr' (version '2.8.3' currently installed).\n",
      "  from pandas.core.computation.check import NUMEXPR_INSTALLED\n",
      "/Users/aidanbeilke/opt/anaconda3/lib/python3.9/site-packages/pandas/core/computation/expressions.py:21: UserWarning: Pandas requires version '2.8.4' or newer of 'numexpr' (version '2.8.3' currently installed).\n",
      "  from pandas.core.computation.check import NUMEXPR_INSTALLED\n",
      "/Users/aidanbeilke/opt/anaconda3/lib/python3.9/site-packages/pandas/core/computation/expressions.py:21: UserWarning: Pandas requires version '2.8.4' or newer of 'numexpr' (version '2.8.3' currently installed).\n",
      "  from pandas.core.computation.check import NUMEXPR_INSTALLED\n",
      "/Users/aidanbeilke/opt/anaconda3/lib/python3.9/site-packages/pandas/core/computation/expressions.py:21: UserWarning: Pandas requires version '2.8.4' or newer of 'numexpr' (version '2.8.3' currently installed).\n",
      "  from pandas.core.computation.check import NUMEXPR_INSTALLED\n",
      "/Users/aidanbeilke/opt/anaconda3/lib/python3.9/site-packages/pandas/core/computation/expressions.py:21: UserWarning: Pandas requires version '2.8.4' or newer of 'numexpr' (version '2.8.3' currently installed).\n",
      "  from pandas.core.computation.check import NUMEXPR_INSTALLED\n",
      "/Users/aidanbeilke/opt/anaconda3/lib/python3.9/site-packages/pandas/core/computation/expressions.py:21: UserWarning: Pandas requires version '2.8.4' or newer of 'numexpr' (version '2.8.3' currently installed).\n",
      "  from pandas.core.computation.check import NUMEXPR_INSTALLED\n",
      "/Users/aidanbeilke/opt/anaconda3/lib/python3.9/site-packages/pandas/core/arrays/masked.py:60: UserWarning: Pandas requires version '1.3.6' or newer of 'bottleneck' (version '1.3.5' currently installed).\n",
      "  from pandas.core import (\n",
      "/Users/aidanbeilke/opt/anaconda3/lib/python3.9/site-packages/pandas/core/arrays/masked.py:60: UserWarning: Pandas requires version '1.3.6' or newer of 'bottleneck' (version '1.3.5' currently installed).\n",
      "  from pandas.core import (\n",
      "/Users/aidanbeilke/opt/anaconda3/lib/python3.9/site-packages/pandas/core/arrays/masked.py:60: UserWarning: Pandas requires version '1.3.6' or newer of 'bottleneck' (version '1.3.5' currently installed).\n",
      "  from pandas.core import (\n",
      "/Users/aidanbeilke/opt/anaconda3/lib/python3.9/site-packages/pandas/core/arrays/masked.py:60: UserWarning: Pandas requires version '1.3.6' or newer of 'bottleneck' (version '1.3.5' currently installed).\n",
      "  from pandas.core import (\n",
      "/Users/aidanbeilke/opt/anaconda3/lib/python3.9/site-packages/pandas/core/arrays/masked.py:60: UserWarning: Pandas requires version '1.3.6' or newer of 'bottleneck' (version '1.3.5' currently installed).\n",
      "  from pandas.core import (\n",
      "/Users/aidanbeilke/opt/anaconda3/lib/python3.9/site-packages/pandas/core/arrays/masked.py:60: UserWarning: Pandas requires version '1.3.6' or newer of 'bottleneck' (version '1.3.5' currently installed).\n",
      "  from pandas.core import (\n",
      "/Users/aidanbeilke/opt/anaconda3/lib/python3.9/site-packages/pandas/core/arrays/masked.py:60: UserWarning: Pandas requires version '1.3.6' or newer of 'bottleneck' (version '1.3.5' currently installed).\n",
      "  from pandas.core import (\n",
      "/Users/aidanbeilke/opt/anaconda3/lib/python3.9/site-packages/pandas/core/arrays/masked.py:60: UserWarning: Pandas requires version '1.3.6' or newer of 'bottleneck' (version '1.3.5' currently installed).\n",
      "  from pandas.core import (\n"
     ]
    }
   ],
   "source": [
    "param_grid = {\n",
    "    'n_estimators': [100, 125, 150],  # Number of trees\n",
    "    'max_depth': [3, 5, 7],           # Depth of trees\n",
    "    'learning_rate': [0.01, 0.1, 0.5] # Learning rate\n",
    "}\n",
    "\n",
    "\n",
    "grid_search = GridSearchCV(estimator=fb_model, param_grid=param_grid, \n",
    "                           cv=3, n_jobs=-1, verbose=3, scoring='accuracy')\n",
    "\n",
    "grid_search.fit(X_train_fb, y_train_fb)\n",
    "\n",
    "best_params = grid_search.best_params_\n",
    "best_model_fb = grid_search.best_estimator_\n",
    "\n",
    "y_pred_prob_fb = best_model_fb.predict_proba(X_test_fb)"
   ]
  },
  {
   "cell_type": "markdown",
   "id": "486c2fc4",
   "metadata": {},
   "source": [
    "## Offspeed Model"
   ]
  },
  {
   "cell_type": "code",
   "execution_count": 80,
   "id": "4f5fec69",
   "metadata": {},
   "outputs": [],
   "source": [
    "df_os = data[data['pitch_type'].isin(offspeed)]\n",
    "X_os = df_os[features]\n",
    "y_os = df_os['result_type_code']\n",
    "\n",
    "X_train_os, X_test_os, y_train_os, y_test_os = train_test_split(X_os, y_os, test_size=0.2, random_state=123)\n",
    "\n",
    "xgb_model = xgb.XGBRegressor()\n",
    "\n",
    "os_model = xgb.XGBClassifier()\n",
    "os_model.fit(X_train_os, y_train_os)\n",
    "\n",
    "y_pred_prob_os = os_model.predict_proba(X_test_os)"
   ]
  },
  {
   "cell_type": "markdown",
   "id": "99c1ae9b",
   "metadata": {},
   "source": [
    "## Hyperparameter Tune Offspeed"
   ]
  },
  {
   "cell_type": "code",
   "execution_count": 81,
   "id": "84e16146",
   "metadata": {},
   "outputs": [
    {
     "name": "stdout",
     "output_type": "stream",
     "text": [
      "Fitting 3 folds for each of 27 candidates, totalling 81 fits\n"
     ]
    }
   ],
   "source": [
    "param_grid = {\n",
    "    'n_estimators': [100, 125, 150],  # Number of trees\n",
    "    'max_depth': [3, 5, 7],           # Depth of trees\n",
    "    'learning_rate': [0.01, 0.1, 0.5] # Learning rate\n",
    "}\n",
    "\n",
    "\n",
    "grid_search = GridSearchCV(estimator=os_model, param_grid=param_grid, \n",
    "                           cv=3, n_jobs=-1, verbose=3, scoring='accuracy')\n",
    "\n",
    "grid_search.fit(X_train_os, y_train_os)\n",
    "\n",
    "best_params = grid_search.best_params_\n",
    "best_model_os = grid_search.best_estimator_\n",
    "\n",
    "y_pred_prob_os = best_model_os.predict_proba(X_test_os)"
   ]
  },
  {
   "cell_type": "markdown",
   "id": "8415e4ac",
   "metadata": {},
   "source": [
    "## Breaking Model"
   ]
  },
  {
   "cell_type": "code",
   "execution_count": 82,
   "id": "eb937318",
   "metadata": {},
   "outputs": [],
   "source": [
    "df_bb = data[data['pitch_type'].isin(breaking)]\n",
    "X_bb = df_bb[features]\n",
    "y_bb = df_bb['result_type_code']\n",
    "\n",
    "X_train_bb, X_test_bb, y_train_bb, y_test_bb = train_test_split(X_bb, y_bb, test_size=0.2, random_state=123)\n",
    "\n",
    "xgb_model = xgb.XGBRegressor()\n",
    "\n",
    "bb_model = xgb.XGBClassifier()\n",
    "bb_model.fit(X_train_bb, y_train_bb)\n",
    "\n",
    "y_pred_prob_bb = bb_model.predict_proba(X_test_bb)"
   ]
  },
  {
   "cell_type": "markdown",
   "id": "30a99ee9",
   "metadata": {},
   "source": [
    "## Hyperparameter Tune Breaking"
   ]
  },
  {
   "cell_type": "code",
   "execution_count": 83,
   "id": "d760e56a",
   "metadata": {},
   "outputs": [
    {
     "name": "stdout",
     "output_type": "stream",
     "text": [
      "Fitting 3 folds for each of 27 candidates, totalling 81 fits\n"
     ]
    }
   ],
   "source": [
    "param_grid = {\n",
    "    'n_estimators': [100, 125, 150],  # Number of trees\n",
    "    'max_depth': [3, 5, 7],           # Depth of trees\n",
    "    'learning_rate': [0.01, 0.1, 0.5] # Learning rate\n",
    "}\n",
    "\n",
    "\n",
    "grid_search = GridSearchCV(estimator=bb_model, param_grid=param_grid, \n",
    "                           cv=3, n_jobs=-1, verbose=3, scoring='accuracy')\n",
    "\n",
    "grid_search.fit(X_train_bb, y_train_bb)\n",
    "\n",
    "best_params = grid_search.best_params_\n",
    "best_model_bb = grid_search.best_estimator_\n",
    "\n",
    "y_pred_prob_bb = best_model_bb.predict_proba(X_test_bb)"
   ]
  },
  {
   "cell_type": "markdown",
   "id": "c66f4ddc",
   "metadata": {},
   "source": [
    "## Feature Importance"
   ]
  },
  {
   "cell_type": "code",
   "execution_count": 84,
   "id": "e95197cd",
   "metadata": {},
   "outputs": [
    {
     "data": {
      "image/png": "[encoded data removed]",
      "text/plain": [
       "<Figure size 1800x600 with 3 Axes>"
      ]
     },
     "metadata": {},
     "output_type": "display_data"
    }
   ],
   "source": [
    "models = [best_model_fb, best_model_os, best_model_bb]\n",
    "model_names = ['Fastball Model', 'Offspeed Model', 'Breaking Ball Model']  # Names for the models for labeling purposes\n",
    "X_trains = [X_train_fb, X_train_os, X_train_bb]\n",
    "\n",
    "# Setup the matplotlib figure and axes for 3 columns and 1 row\n",
    "fig, axes = plt.subplots(nrows=1, ncols=3, figsize=(18, 6))  # Adjust overall figure size as needed\n",
    "\n",
    "for model, name, X_train, ax in zip(models, model_names, X_trains, axes.flatten()):\n",
    "    # Convert feature names to list of strings\n",
    "    feature_names = X_train.columns.tolist()\n",
    "    \n",
    "    # Plotting on the specified subplot axis\n",
    "    xgb.plot_importance(model, ax=ax, importance_type='weight', title=f'Feature Importance for {name}', xlabel='Importance')\n",
    "    \n",
    "# Set the y-axis label only for the first subplot to avoid clutter\n",
    "axes[0].set_ylabel('Feature')\n",
    "\n",
    "plt.tight_layout()  \n",
    "plt.show()"
   ]
  },
  {
   "cell_type": "markdown",
   "id": "8eb3ef38",
   "metadata": {},
   "source": [
    "## Test Model"
   ]
  },
  {
   "cell_type": "code",
   "execution_count": 86,
   "id": "51f834af",
   "metadata": {},
   "outputs": [],
   "source": [
    "models = [best_model_fb, best_model_os, best_model_bb]\n",
    "X_tests = [X_test_fb, X_test_os, X_test_bb]\n",
    "prob_df_list = []\n",
    "\n",
    "for model, X_test in zip(models, X_tests):\n",
    "    y_pred_prob = model.predict_proba(X_test)\n",
    "    \n",
    "    num_classes = y_pred_prob.shape[1]\n",
    "    prob_columns = [f'prob_class_{i}' for i in range(num_classes)]\n",
    "    prob_df = pd.DataFrame(y_pred_prob, columns=prob_columns)\n",
    "    \n",
    "    X_test = X_test.reset_index(drop=True)\n",
    "    prob_df = prob_df.reset_index(drop=True)\n",
    "    \n",
    "    X_test_with_probs = pd.concat([X_test, prob_df], axis=1)\n",
    "    \n",
    "    prob_df_list.append(X_test_with_probs)\n",
    "    \n",
    "X_test_fb_with_probs = prob_df_list[0]\n",
    "X_test_os_with_probs = prob_df_list[1]\n",
    "X_test_bb_with_probs = prob_df_list[2]"
   ]
  },
  {
   "cell_type": "code",
   "execution_count": 90,
   "id": "13ecfa01",
   "metadata": {},
   "outputs": [],
   "source": [
    "dfs = [X_test_fb_with_probs, X_test_os_with_probs, X_test_bb_with_probs]\n",
    "\n",
    "for df in dfs:\n",
    "    df['bal_val'] = df['prob_class_0'] * 0.063688329\n",
    "    df['do_val'] = df['prob_class_1'] * 0.766083123\n",
    "    df['error_val'] = df['prob_class_2'] * -0.236889646\n",
    "    df['fc_val'] = df['prob_class_3'] * -0.195568767\n",
    "    df['fb_val'] = df['prob_class_4'] * -0.038050274\n",
    "    df['hbp_val'] = df['prob_class_5'] * 0.063688329\n",
    "    df['hmr_val'] = df['prob_class_6'] * 1.374328827\n",
    "    df['out_val'] = df['prob_class_7'] * -0.195568767\n",
    "    df['sacb_val'] = df['prob_class_8'] * -0.10808108\n",
    "    df['sacf_val'] = df['prob_class_9'] * -0.236889646\n",
    "    df['single_val'] = df['prob_class_10'] * 0.467292971\n",
    "    df['sc_val'] = df['prob_class_11'] * -0.065092516\n",
    "    df['sw_val'] = df['prob_class_12'] * -0.118124936\n",
    "    df['triple_val'] = df['prob_class_13'] * 1.05755625\n",
    "    \n",
    "    df['rv_val'] = df[['bal_val', 'do_val', 'error_val', 'fc_val', 'fb_val', 'hbp_val', 'hmr_val', 'out_val', 'sacb_val', 'sacf_val', 'single_val', 'sc_val', 'sw_val', 'triple_val']].sum(axis=1)\n",
    "\n",
    "    \n",
    "combined_df = pd.concat([X_test_fb_with_probs, X_test_os_with_probs, X_test_bb_with_probs])"
   ]
  },
  {
   "cell_type": "code",
   "execution_count": 97,
   "id": "eb9db963",
   "metadata": {},
   "outputs": [
    {
     "data": {
      "text/plain": [
       "<Axes: xlabel='xRV', ylabel='Count'>"
      ]
     },
     "execution_count": 97,
     "metadata": {},
     "output_type": "execute_result"
    },
    {
     "data": {
      "image/png": "[encoded data removed]",
      "text/plain": [
       "<Figure size 640x480 with 1 Axes>"
      ]
     },
     "metadata": {},
     "output_type": "display_data"
    }
   ],
   "source": [
    "combined_df['xRV'] = 100 - ((combined_df['rv_val'] - combined_df['rv_val'].mean()) / combined_df['rv_val'].std()) * 10\n",
    "\n",
    "combined_df[['RelSpeed', 'InducedVertBreak', 'HorzBreak', 'xRV']]\n",
    "\n",
    "\n",
    "sns.histplot(data = combined_df,\n",
    "            x = 'xRV')"
   ]
  },
  {
   "cell_type": "markdown",
   "id": "ed4d3f15",
   "metadata": {},
   "source": [
    "## Save Models"
   ]
  },
  {
   "cell_type": "code",
   "execution_count": 36,
   "id": "32b594a7",
   "metadata": {},
   "outputs": [],
   "source": [
    "import pickle\n",
    "\n",
    "with open('best_model_fb.pkl', 'wb') as file:\n",
    "    pickle.dump(model, file)\n",
    "    \n",
    "\n",
    "with open('best_model_os.pkl', 'wb') as file:\n",
    "    pickle.dump(model, file)\n",
    "    \n",
    "\n",
    "with open('best_model_bb.pkl', 'wb') as file:\n",
    "    pickle.dump(model, file)"
   ]
  },
  {
   "cell_type": "code",
   "execution_count": null,
   "id": "69db72dc",
   "metadata": {},
   "outputs": [],
   "source": [
    "# FB Model\n",
    "    df_fb = data[data['pitch_type'].isin(fastball)]\n",
    "    y_pred_prob_fb = fb_model.predict_proba(df_fb[features])\n",
    "    prob_df_fb = pd.DataFrame(y_pred_prob_fb, columns=label_encoder.inverse_transform(range(len(label_encoder.classes_))))\n",
    "    prob_df_fb = prob_df_fb[rv_dict.keys()]\n",
    "    rv_values = pd.Series(rv_dict)\n",
    "    prob_df_fb['rv_val'] = prob_df_fb.mul(rv_values).sum(axis=1)\n",
    "\n",
    "    # OS Model\n",
    "    df_os = data[data['pitch_type'].isin(offspeed)]\n",
    "    y_pred_prob_os = os_model.predict_proba(df_os[features])\n",
    "    prob_df_os = pd.DataFrame(y_pred_prob_os, columns=label_encoder.inverse_transform(range(len(label_encoder.classes_))))\n",
    "    prob_df_os = prob_df_os[rv_dict.keys()]\n",
    "    df_os['xRV'] = prob_df_os.mul(rv_values).sum(axis=1)\n",
    "    df_os['Stuff'] = 100 - ((df_os['xRV'] - df_os['xRV'].mean()) / df_os['xRV'].std()) * 10\n",
    "\n",
    "    # BB Model\n",
    "    df_bb = data[data['pitch_type'].isin(breaking)]\n",
    "    y_pred_prob_bb = bb_model.predict_proba(df_bb[features])\n",
    "    prob_df_bb = pd.DataFrame(y_pred_prob_bb, columns=label_encoder.inverse_transform(range(len(label_encoder.classes_))))\n",
    "    prob_df_bb = prob_df_bb[rv_dict.keys()]\n",
    "    df_bb['xRV'] = prob_df_bb.mul(rv_values).sum(axis=1)\n",
    "    df_bb['Stuff'] = 100 - ((df_bb['xRV'] - df_bb['xRV'].mean()) / df_bb['xRV'].std()) * 10"
   ]
  }
 ],
 "metadata": {
  "kernelspec": {
   "display_name": "Python 3 (ipykernel)",
   "language": "python",
   "name": "python3"
  },
  "language_info": {
   "codemirror_mode": {
    "name": "ipython",
    "version": 3
   },
   "file_extension": ".py",
   "mimetype": "text/x-python",
   "name": "python",
   "nbconvert_exporter": "python",
   "pygments_lexer": "ipython3",
   "version": "3.9.13"
  }
 },
 "nbformat": 4,
 "nbformat_minor": 5
}
